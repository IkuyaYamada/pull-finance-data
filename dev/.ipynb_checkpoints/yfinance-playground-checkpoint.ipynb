{
 "cells": [
  {
   "cell_type": "code",
   "execution_count": 46,
   "id": "fec2d061",
   "metadata": {},
   "outputs": [
    {
     "name": "stdout",
     "output_type": "stream",
     "text": [
      "3.8.2 (default, May 29 2020, 21:21:23) \n",
      "[Clang 11.0.3 (clang-1103.0.32.62)]\n"
     ]
    }
   ],
   "source": [
    "# Python バージョン確認\n",
    "import sys\n",
    "\n",
    "print(sys.version)"
   ]
  },
  {
   "cell_type": "code",
   "execution_count": 48,
   "id": "4e54d4d0",
   "metadata": {},
   "outputs": [],
   "source": [
    "import yfinance\n",
    "import pandas"
   ]
  },
  {
   "cell_type": "code",
   "execution_count": 49,
   "id": "15be5c46",
   "metadata": {},
   "outputs": [],
   "source": [
    "# とりあえず Readme を参考に動作確認\n",
    "# https://github.com/ranaroussi/yfinance\n",
    "\n",
    "import yfinance as yf\n",
    "\n",
    "msft = yf.Ticker(\"MSFT\")\n",
    "\n",
    "# get stock info\n",
    "msft.info\n",
    "\n",
    "# get historical market data\n",
    "hist = msft.history(period=\"max\")\n",
    "\n",
    "# show actions (dividends, splits)\n",
    "msft.actions\n",
    "\n",
    "# show dividends\n",
    "msft.dividends\n",
    "\n",
    "# show splits\n",
    "msft.splits\n",
    "\n",
    "# show financials\n",
    "msft.financials\n",
    "msft.quarterly_financials\n",
    "\n",
    "# show major holders\n",
    "msft.major_holders\n",
    "\n",
    "# show institutional holders\n",
    "msft.institutional_holders\n",
    "\n",
    "# show balance sheet\n",
    "msft.balance_sheet\n",
    "msft.quarterly_balance_sheet\n",
    "\n",
    "# show cashflow\n",
    "msft.cashflow\n",
    "msft.quarterly_cashflow\n",
    "\n",
    "# show earnings\n",
    "msft.earnings\n",
    "msft.quarterly_earnings\n",
    "\n",
    "# show sustainability\n",
    "msft.sustainability\n",
    "\n",
    "# show analysts recommendations\n",
    "msft.recommendations\n",
    "\n",
    "# show next event (earnings, etc)\n",
    "msft.calendar\n",
    "\n",
    "# show ISIN code - *experimental*\n",
    "# ISIN = International Securities Identification Number\n",
    "msft.isin\n",
    "\n",
    "# show options expirations\n",
    "msft.options\n",
    "\n",
    "# get option chain for specific expiration\n",
    "opt = msft.option_chain('2021-10-15')\n",
    "# data available via: opt.calls, opt.puts\n"
   ]
  },
  {
   "cell_type": "code",
   "execution_count": 50,
   "id": "af561539",
   "metadata": {},
   "outputs": [
    {
     "name": "stdout",
     "output_type": "stream",
     "text": [
      "[*********************100%***********************]  1 of 1 completed\n"
     ]
    }
   ],
   "source": [
    "data = yf.download(\"AMZN\", start=\"2021-10-01\", end=\"2021-10-30\")"
   ]
  },
  {
   "cell_type": "code",
   "execution_count": 51,
   "id": "ec4af777",
   "metadata": {},
   "outputs": [
    {
     "name": "stdout",
     "output_type": "stream",
     "text": [
      "<class 'pandas.core.frame.DataFrame'>\n"
     ]
    }
   ],
   "source": [
    "print(type(data))"
   ]
  },
  {
   "cell_type": "code",
   "execution_count": 52,
   "id": "6114c648",
   "metadata": {},
   "outputs": [
    {
     "data": {
      "text/html": [
       "<div>\n",
       "<style scoped>\n",
       "    .dataframe tbody tr th:only-of-type {\n",
       "        vertical-align: middle;\n",
       "    }\n",
       "\n",
       "    .dataframe tbody tr th {\n",
       "        vertical-align: top;\n",
       "    }\n",
       "\n",
       "    .dataframe thead th {\n",
       "        text-align: right;\n",
       "    }\n",
       "</style>\n",
       "<table border=\"1\" class=\"dataframe\">\n",
       "  <thead>\n",
       "    <tr style=\"text-align: right;\">\n",
       "      <th></th>\n",
       "      <th>Open</th>\n",
       "      <th>High</th>\n",
       "      <th>Low</th>\n",
       "      <th>Close</th>\n",
       "      <th>Adj Close</th>\n",
       "      <th>Volume</th>\n",
       "    </tr>\n",
       "    <tr>\n",
       "      <th>Date</th>\n",
       "      <th></th>\n",
       "      <th></th>\n",
       "      <th></th>\n",
       "      <th></th>\n",
       "      <th></th>\n",
       "      <th></th>\n",
       "    </tr>\n",
       "  </thead>\n",
       "  <tbody>\n",
       "    <tr>\n",
       "      <th>2021-09-30</th>\n",
       "      <td>3316.000000</td>\n",
       "      <td>3327.850098</td>\n",
       "      <td>3273.989990</td>\n",
       "      <td>3285.040039</td>\n",
       "      <td>3285.040039</td>\n",
       "      <td>2842400</td>\n",
       "    </tr>\n",
       "    <tr>\n",
       "      <th>2021-10-01</th>\n",
       "      <td>3289.010010</td>\n",
       "      <td>3309.169922</td>\n",
       "      <td>3255.939941</td>\n",
       "      <td>3283.260010</td>\n",
       "      <td>3283.260010</td>\n",
       "      <td>2835600</td>\n",
       "    </tr>\n",
       "    <tr>\n",
       "      <th>2021-10-04</th>\n",
       "      <td>3279.389893</td>\n",
       "      <td>3279.989990</td>\n",
       "      <td>3176.250000</td>\n",
       "      <td>3189.780029</td>\n",
       "      <td>3189.780029</td>\n",
       "      <td>4523100</td>\n",
       "    </tr>\n",
       "    <tr>\n",
       "      <th>2021-10-05</th>\n",
       "      <td>3204.500000</td>\n",
       "      <td>3260.729980</td>\n",
       "      <td>3202.459961</td>\n",
       "      <td>3221.000000</td>\n",
       "      <td>3221.000000</td>\n",
       "      <td>3269200</td>\n",
       "    </tr>\n",
       "    <tr>\n",
       "      <th>2021-10-06</th>\n",
       "      <td>3213.530029</td>\n",
       "      <td>3264.340088</td>\n",
       "      <td>3198.620117</td>\n",
       "      <td>3262.010010</td>\n",
       "      <td>3262.010010</td>\n",
       "      <td>2533000</td>\n",
       "    </tr>\n",
       "    <tr>\n",
       "      <th>2021-10-07</th>\n",
       "      <td>3291.540039</td>\n",
       "      <td>3325.750000</td>\n",
       "      <td>3283.060059</td>\n",
       "      <td>3302.429932</td>\n",
       "      <td>3302.429932</td>\n",
       "      <td>2409100</td>\n",
       "    </tr>\n",
       "    <tr>\n",
       "      <th>2021-10-08</th>\n",
       "      <td>3317.000000</td>\n",
       "      <td>3321.429932</td>\n",
       "      <td>3288.199951</td>\n",
       "      <td>3288.620117</td>\n",
       "      <td>3288.620117</td>\n",
       "      <td>1995500</td>\n",
       "    </tr>\n",
       "  </tbody>\n",
       "</table>\n",
       "</div>"
      ],
      "text/plain": [
       "                   Open         High          Low        Close    Adj Close  \\\n",
       "Date                                                                          \n",
       "2021-09-30  3316.000000  3327.850098  3273.989990  3285.040039  3285.040039   \n",
       "2021-10-01  3289.010010  3309.169922  3255.939941  3283.260010  3283.260010   \n",
       "2021-10-04  3279.389893  3279.989990  3176.250000  3189.780029  3189.780029   \n",
       "2021-10-05  3204.500000  3260.729980  3202.459961  3221.000000  3221.000000   \n",
       "2021-10-06  3213.530029  3264.340088  3198.620117  3262.010010  3262.010010   \n",
       "2021-10-07  3291.540039  3325.750000  3283.060059  3302.429932  3302.429932   \n",
       "2021-10-08  3317.000000  3321.429932  3288.199951  3288.620117  3288.620117   \n",
       "\n",
       "             Volume  \n",
       "Date                 \n",
       "2021-09-30  2842400  \n",
       "2021-10-01  2835600  \n",
       "2021-10-04  4523100  \n",
       "2021-10-05  3269200  \n",
       "2021-10-06  2533000  \n",
       "2021-10-07  2409100  \n",
       "2021-10-08  1995500  "
      ]
     },
     "execution_count": 52,
     "metadata": {},
     "output_type": "execute_result"
    }
   ],
   "source": [
    "\"\"\"\n",
    "ヒストリカルデータ\n",
    "始値\n",
    "終値\n",
    "高値\n",
    "安値\n",
    "\"\"\"\n",
    "data"
   ]
  },
  {
   "cell_type": "code",
   "execution_count": null,
   "id": "71aa1216",
   "metadata": {},
   "outputs": [],
   "source": []
  }
 ],
 "metadata": {
  "kernelspec": {
   "display_name": "Python 3 (ipykernel)",
   "language": "python",
   "name": "python3"
  },
  "language_info": {
   "codemirror_mode": {
    "name": "ipython",
    "version": 3
   },
   "file_extension": ".py",
   "mimetype": "text/x-python",
   "name": "python",
   "nbconvert_exporter": "python",
   "pygments_lexer": "ipython3",
   "version": "3.8.2"
  }
 },
 "nbformat": 4,
 "nbformat_minor": 5
}
